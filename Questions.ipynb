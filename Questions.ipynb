{
 "cells": [
  {
   "cell_type": "markdown",
   "metadata": {
    "id": "uCP_pxmVqIdC"
   },
   "source": [
    "# Predict Financial News Sentiment"
   ]
  },
  {
   "cell_type": "markdown",
   "metadata": {
    "id": "c8okkFy5qIdI"
   },
   "source": [
    "### Environment\n",
    "Ubuntu 22.04 LTS which includes **Python 3.9.12** and utilities *curl*, *git*, *vim*, *unzip*, *wget*, and *zip*. There is no *GPU* support.\n",
    "\n",
    "The IPython Kernel allows you to execute Python code in the Notebook cell and Python console.\n",
    "\n",
    "### Installing packages\n",
    "- Run `!mamba list \"package_name\"` command to check the package installation status. For example,\n",
    "\n",
    "```python\n",
    "!mamba list numpy\n",
    "\"\"\"\n",
    "# packages in environment at /opt/conda:\n",
    "#\n",
    "# Name                    Version                   Build  Channel\n",
    "numpy                     1.21.6           py39h18676bf_0    conda-forge\n",
    "\"\"\"\n",
    "```\n",
    "\n",
    "    You can also try importing the package.\n",
    "\n",
    "- Run the `!mamba install \"package_name\"` to install a package\n",
    "\n",
    "### Excluding large files\n",
    "HackerRank rejects any submission larger than **20MB**. Therefore, you must exclude any large files by adding these to the *.gitignore* file.\n",
    "You can **Submit** code to validate the status of your submission."
   ]
  },
  {
   "cell_type": "code",
   "execution_count": 7,
   "metadata": {
    "id": "QA24RI1LqIdJ"
   },
   "outputs": [],
   "source": [
    "# Libraries\n",
    "\n",
    "import pandas as pd\n",
    "import numpy as np\n",
    "import matplotlib.pyplot as plt\n",
    "import os\n",
    "\n",
    "pd.set_option(\"display.max_columns\", 101)\n",
    "pd.set_option(\"display.max_colwidth\", None)"
   ]
  },
  {
   "cell_type": "markdown",
   "metadata": {
    "id": "xPRzZs07qIdJ"
   },
   "source": [
    "## Data Description"
   ]
  },
  {
   "cell_type": "markdown",
   "metadata": {
    "id": "tUAnYizmqIdK"
   },
   "source": [
    "| Column    | Description                                         |\n",
    "|:----------|:----------------------------------------------------|\n",
    "| `news`  | news headline                                |\n",
    "| `label`   | news sentiment - negative (`0`), neutral (`1`), positive (`2`) |"
   ]
  },
  {
   "cell_type": "code",
   "execution_count": 8,
   "metadata": {
    "id": "oc7ik0x2qIdK",
    "outputId": "15bb76c8-29e0-4be9-f17a-159bfd147900"
   },
   "outputs": [
    {
     "data": {
      "text/html": [
       "<div>\n",
       "<style scoped>\n",
       "    .dataframe tbody tr th:only-of-type {\n",
       "        vertical-align: middle;\n",
       "    }\n",
       "\n",
       "    .dataframe tbody tr th {\n",
       "        vertical-align: top;\n",
       "    }\n",
       "\n",
       "    .dataframe thead th {\n",
       "        text-align: right;\n",
       "    }\n",
       "</style>\n",
       "<table border=\"1\" class=\"dataframe\">\n",
       "  <thead>\n",
       "    <tr style=\"text-align: right;\">\n",
       "      <th></th>\n",
       "      <th>news</th>\n",
       "      <th>label</th>\n",
       "    </tr>\n",
       "  </thead>\n",
       "  <tbody>\n",
       "    <tr>\n",
       "      <th>0</th>\n",
       "      <td>Residents access to the block is planned to be from Aleksandri Street .</td>\n",
       "      <td>1</td>\n",
       "    </tr>\n",
       "    <tr>\n",
       "      <th>1</th>\n",
       "      <td>The company operates its business through two reportable segments , including Banking and Investment Services , and Non-Life Insurance .</td>\n",
       "      <td>1</td>\n",
       "    </tr>\n",
       "    <tr>\n",
       "      <th>2</th>\n",
       "      <td>However , this increases signaling traffic which wastes network resources and allows fewer smartphones to connect .</td>\n",
       "      <td>0</td>\n",
       "    </tr>\n",
       "    <tr>\n",
       "      <th>3</th>\n",
       "      <td>Ahlstrom Corporation STOCK EXCHANGE RELEASE 13.02.2008 Ahlstrom , a global leader in high performance fiber-based materials , today announced the completion of the acquisition of Friend Group Inc. , which consists of West Carrollton Parchment Company and West Carrollton Converting Company .</td>\n",
       "      <td>1</td>\n",
       "    </tr>\n",
       "    <tr>\n",
       "      <th>4</th>\n",
       "      <td>The winners included the Honda Odyssey for minivan and the Nissan Armada for large SUV .</td>\n",
       "      <td>1</td>\n",
       "    </tr>\n",
       "  </tbody>\n",
       "</table>\n",
       "</div>"
      ],
      "text/plain": [
       "                                                                                                                                                                                                                                                                                                  news  \\\n",
       "0                                                                                                                                                                                                                              Residents access to the block is planned to be from Aleksandri Street .   \n",
       "1                                                                                                                                                             The company operates its business through two reportable segments , including Banking and Investment Services , and Non-Life Insurance .   \n",
       "2                                                                                                                                                                                  However , this increases signaling traffic which wastes network resources and allows fewer smartphones to connect .   \n",
       "3  Ahlstrom Corporation STOCK EXCHANGE RELEASE 13.02.2008 Ahlstrom , a global leader in high performance fiber-based materials , today announced the completion of the acquisition of Friend Group Inc. , which consists of West Carrollton Parchment Company and West Carrollton Converting Company .   \n",
       "4                                                                                                                                                                                                             The winners included the Honda Odyssey for minivan and the Nissan Armada for large SUV .   \n",
       "\n",
       "   label  \n",
       "0      1  \n",
       "1      1  \n",
       "2      0  \n",
       "3      1  \n",
       "4      1  "
      ]
     },
     "execution_count": 8,
     "metadata": {},
     "output_type": "execute_result"
    }
   ],
   "source": [
    "# The training dataset is already loaded below.\n",
    "data = pd.read_csv(\"train.csv\")\n",
    "data.head()"
   ]
  },
  {
   "cell_type": "code",
   "execution_count": 2,
   "metadata": {
    "id": "d0su3hjvqIdM"
   },
   "outputs": [
    {
     "data": {
      "text/html": [
       "<div>\n",
       "<style scoped>\n",
       "    .dataframe tbody tr th:only-of-type {\n",
       "        vertical-align: middle;\n",
       "    }\n",
       "\n",
       "    .dataframe tbody tr th {\n",
       "        vertical-align: top;\n",
       "    }\n",
       "\n",
       "    .dataframe thead th {\n",
       "        text-align: right;\n",
       "    }\n",
       "</style>\n",
       "<table border=\"1\" class=\"dataframe\">\n",
       "  <thead>\n",
       "    <tr style=\"text-align: right;\">\n",
       "      <th></th>\n",
       "      <th>news</th>\n",
       "      <th>label</th>\n",
       "    </tr>\n",
       "  </thead>\n",
       "  <tbody>\n",
       "    <tr>\n",
       "      <th>0</th>\n",
       "      <td>Residents access to the block is planned to be...</td>\n",
       "      <td>1</td>\n",
       "    </tr>\n",
       "    <tr>\n",
       "      <th>1</th>\n",
       "      <td>The company operates its business through two ...</td>\n",
       "      <td>1</td>\n",
       "    </tr>\n",
       "    <tr>\n",
       "      <th>2</th>\n",
       "      <td>However , this increases signaling traffic whi...</td>\n",
       "      <td>0</td>\n",
       "    </tr>\n",
       "    <tr>\n",
       "      <th>3</th>\n",
       "      <td>Ahlstrom Corporation STOCK EXCHANGE RELEASE 13...</td>\n",
       "      <td>1</td>\n",
       "    </tr>\n",
       "    <tr>\n",
       "      <th>4</th>\n",
       "      <td>The winners included the Honda Odyssey for min...</td>\n",
       "      <td>1</td>\n",
       "    </tr>\n",
       "  </tbody>\n",
       "</table>\n",
       "</div>"
      ],
      "text/plain": [
       "                                                news  label\n",
       "0  Residents access to the block is planned to be...      1\n",
       "1  The company operates its business through two ...      1\n",
       "2  However , this increases signaling traffic whi...      0\n",
       "3  Ahlstrom Corporation STOCK EXCHANGE RELEASE 13...      1\n",
       "4  The winners included the Honda Odyssey for min...      1"
      ]
     },
     "execution_count": 2,
     "metadata": {},
     "output_type": "execute_result"
    }
   ],
   "source": [
    "# Cell 1: imports & load\n",
    "import pandas as pd\n",
    "import numpy as np\n",
    "import matplotlib.pyplot as plt\n",
    "from pathlib import Path\n",
    "\n",
    "train_path = \"train.csv\"\n",
    "test_path  = \"test.csv\"\n",
    "\n",
    "tr = pd.read_csv(train_path)\n",
    "te = pd.read_csv(test_path)\n",
    "\n",
    "# basic hygiene\n",
    "for df in (tr, te):\n",
    "    df[\"news\"] = df[\"news\"].fillna(\"\").astype(str)\n",
    "tr.head()\n"
   ]
  },
  {
   "cell_type": "code",
   "execution_count": 3,
   "metadata": {
    "id": "C7DdxdnrqIdN"
   },
   "outputs": [
    {
     "data": {
      "text/html": [
       "<div>\n",
       "<style scoped>\n",
       "    .dataframe tbody tr th:only-of-type {\n",
       "        vertical-align: middle;\n",
       "    }\n",
       "\n",
       "    .dataframe tbody tr th {\n",
       "        vertical-align: top;\n",
       "    }\n",
       "\n",
       "    .dataframe thead th {\n",
       "        text-align: right;\n",
       "    }\n",
       "</style>\n",
       "<table border=\"1\" class=\"dataframe\">\n",
       "  <thead>\n",
       "    <tr style=\"text-align: right;\">\n",
       "      <th></th>\n",
       "      <th>len_char</th>\n",
       "      <th>len_word</th>\n",
       "    </tr>\n",
       "  </thead>\n",
       "  <tbody>\n",
       "    <tr>\n",
       "      <th>count</th>\n",
       "      <td>3634.0</td>\n",
       "      <td>3634.0</td>\n",
       "    </tr>\n",
       "    <tr>\n",
       "      <th>mean</th>\n",
       "      <td>128.6</td>\n",
       "      <td>23.1</td>\n",
       "    </tr>\n",
       "    <tr>\n",
       "      <th>std</th>\n",
       "      <td>56.6</td>\n",
       "      <td>9.9</td>\n",
       "    </tr>\n",
       "    <tr>\n",
       "      <th>min</th>\n",
       "      <td>11.0</td>\n",
       "      <td>3.0</td>\n",
       "    </tr>\n",
       "    <tr>\n",
       "      <th>50%</th>\n",
       "      <td>120.0</td>\n",
       "      <td>21.0</td>\n",
       "    </tr>\n",
       "    <tr>\n",
       "      <th>90%</th>\n",
       "      <td>212.0</td>\n",
       "      <td>38.0</td>\n",
       "    </tr>\n",
       "    <tr>\n",
       "      <th>95%</th>\n",
       "      <td>236.0</td>\n",
       "      <td>42.0</td>\n",
       "    </tr>\n",
       "    <tr>\n",
       "      <th>99%</th>\n",
       "      <td>274.7</td>\n",
       "      <td>50.0</td>\n",
       "    </tr>\n",
       "    <tr>\n",
       "      <th>max</th>\n",
       "      <td>315.0</td>\n",
       "      <td>81.0</td>\n",
       "    </tr>\n",
       "  </tbody>\n",
       "</table>\n",
       "</div>"
      ],
      "text/plain": [
       "       len_char  len_word\n",
       "count    3634.0    3634.0\n",
       "mean      128.6      23.1\n",
       "std        56.6       9.9\n",
       "min        11.0       3.0\n",
       "50%       120.0      21.0\n",
       "90%       212.0      38.0\n",
       "95%       236.0      42.0\n",
       "99%       274.7      50.0\n",
       "max       315.0      81.0"
      ]
     },
     "execution_count": 3,
     "metadata": {},
     "output_type": "execute_result"
    }
   ],
   "source": [
    "# Cell 2: char & word lengths\n",
    "def add_basic_lengths(df):\n",
    "    s = df[\"news\"]\n",
    "    df[\"len_char\"] = s.str.len()\n",
    "    df[\"len_word\"] = s.str.split().apply(len)\n",
    "    return df\n",
    "\n",
    "tr = add_basic_lengths(tr)\n",
    "te = add_basic_lengths(te)\n",
    "\n",
    "tr[[\"len_char\",\"len_word\"]].describe(percentiles=[.5,.9,.95,.99]).round(1)\n"
   ]
  },
  {
   "cell_type": "code",
   "execution_count": 4,
   "metadata": {},
   "outputs": [
    {
     "name": "stderr",
     "output_type": "stream",
     "text": [
      "/opt/anaconda3/envs/pds/lib/python3.9/site-packages/transformers/utils/generic.py:441: UserWarning: torch.utils._pytree._register_pytree_node is deprecated. Please use torch.utils._pytree.register_pytree_node instead.\n",
      "  _torch_pytree._register_pytree_node(\n",
      "/opt/anaconda3/envs/pds/lib/python3.9/site-packages/huggingface_hub/file_download.py:945: FutureWarning: `resume_download` is deprecated and will be removed in version 1.0.0. Downloads always resume when possible. If you want to force a new download, use `force_download=True`.\n",
      "  warnings.warn(\n"
     ]
    },
    {
     "data": {
      "text/html": [
       "<div>\n",
       "<style scoped>\n",
       "    .dataframe tbody tr th:only-of-type {\n",
       "        vertical-align: middle;\n",
       "    }\n",
       "\n",
       "    .dataframe tbody tr th {\n",
       "        vertical-align: top;\n",
       "    }\n",
       "\n",
       "    .dataframe thead th {\n",
       "        text-align: right;\n",
       "    }\n",
       "</style>\n",
       "<table border=\"1\" class=\"dataframe\">\n",
       "  <thead>\n",
       "    <tr style=\"text-align: right;\">\n",
       "      <th></th>\n",
       "      <th>len_tok</th>\n",
       "    </tr>\n",
       "  </thead>\n",
       "  <tbody>\n",
       "    <tr>\n",
       "      <th>count</th>\n",
       "      <td>3634.0</td>\n",
       "    </tr>\n",
       "    <tr>\n",
       "      <th>mean</th>\n",
       "      <td>30.6</td>\n",
       "    </tr>\n",
       "    <tr>\n",
       "      <th>std</th>\n",
       "      <td>13.7</td>\n",
       "    </tr>\n",
       "    <tr>\n",
       "      <th>min</th>\n",
       "      <td>5.0</td>\n",
       "    </tr>\n",
       "    <tr>\n",
       "      <th>50%</th>\n",
       "      <td>28.0</td>\n",
       "    </tr>\n",
       "    <tr>\n",
       "      <th>90%</th>\n",
       "      <td>50.0</td>\n",
       "    </tr>\n",
       "    <tr>\n",
       "      <th>95%</th>\n",
       "      <td>57.0</td>\n",
       "    </tr>\n",
       "    <tr>\n",
       "      <th>99%</th>\n",
       "      <td>69.0</td>\n",
       "    </tr>\n",
       "    <tr>\n",
       "      <th>max</th>\n",
       "      <td>150.0</td>\n",
       "    </tr>\n",
       "  </tbody>\n",
       "</table>\n",
       "</div>"
      ],
      "text/plain": [
       "       len_tok\n",
       "count   3634.0\n",
       "mean      30.6\n",
       "std       13.7\n",
       "min        5.0\n",
       "50%       28.0\n",
       "90%       50.0\n",
       "95%       57.0\n",
       "99%       69.0\n",
       "max      150.0"
      ]
     },
     "execution_count": 4,
     "metadata": {},
     "output_type": "execute_result"
    }
   ],
   "source": [
    "# Cell 3: tokenizer-based lengths\n",
    "from transformers import AutoTokenizer\n",
    "tok = AutoTokenizer.from_pretrained(\"distilbert-base-uncased\")\n",
    "\n",
    "def bert_len(texts, tokenizer, batch_size=1024, max_length=512):\n",
    "    out = np.empty(len(texts), dtype=np.int32)\n",
    "    for i in range(0, len(texts), batch_size):\n",
    "        enc = tokenizer(\n",
    "            texts[i:i+batch_size],\n",
    "            truncation=False,   # count true length\n",
    "            padding=False,\n",
    "            add_special_tokens=True,\n",
    "            return_attention_mask=False,\n",
    "            return_token_type_ids=False,\n",
    "        )\n",
    "        # input_ids includes [CLS]/[SEP] equivalents already\n",
    "        out[i:i+batch_size] = [len(ids) for ids in enc[\"input_ids\"]]\n",
    "    return out\n",
    "\n",
    "tr[\"len_tok\"] = bert_len(tr[\"news\"].tolist(), tok)\n",
    "te[\"len_tok\"] = bert_len(te[\"news\"].tolist(), tok)\n",
    "\n",
    "tr[[\"len_tok\"]].describe(percentiles=[.5,.9,.95,.99]).round(1)\n"
   ]
  },
  {
   "cell_type": "code",
   "execution_count": 5,
   "metadata": {},
   "outputs": [
    {
     "name": "stdout",
     "output_type": "stream",
     "text": [
      "Train coverage:\n"
     ]
    },
    {
     "data": {
      "text/html": [
       "<div>\n",
       "<style scoped>\n",
       "    .dataframe tbody tr th:only-of-type {\n",
       "        vertical-align: middle;\n",
       "    }\n",
       "\n",
       "    .dataframe tbody tr th {\n",
       "        vertical-align: top;\n",
       "    }\n",
       "\n",
       "    .dataframe thead th {\n",
       "        text-align: right;\n",
       "    }\n",
       "</style>\n",
       "<table border=\"1\" class=\"dataframe\">\n",
       "  <thead>\n",
       "    <tr style=\"text-align: right;\">\n",
       "      <th></th>\n",
       "      <th>max_len</th>\n",
       "      <th>covered_%</th>\n",
       "      <th>truncated_n</th>\n",
       "    </tr>\n",
       "  </thead>\n",
       "  <tbody>\n",
       "    <tr>\n",
       "      <th>0</th>\n",
       "      <td>96</td>\n",
       "      <td>99.92</td>\n",
       "      <td>3</td>\n",
       "    </tr>\n",
       "    <tr>\n",
       "      <th>1</th>\n",
       "      <td>128</td>\n",
       "      <td>99.97</td>\n",
       "      <td>0</td>\n",
       "    </tr>\n",
       "    <tr>\n",
       "      <th>2</th>\n",
       "      <td>160</td>\n",
       "      <td>100.00</td>\n",
       "      <td>0</td>\n",
       "    </tr>\n",
       "    <tr>\n",
       "      <th>3</th>\n",
       "      <td>192</td>\n",
       "      <td>100.00</td>\n",
       "      <td>0</td>\n",
       "    </tr>\n",
       "    <tr>\n",
       "      <th>4</th>\n",
       "      <td>256</td>\n",
       "      <td>100.00</td>\n",
       "      <td>0</td>\n",
       "    </tr>\n",
       "  </tbody>\n",
       "</table>\n",
       "</div>"
      ],
      "text/plain": [
       "   max_len  covered_%  truncated_n\n",
       "0       96      99.92            3\n",
       "1      128      99.97            0\n",
       "2      160     100.00            0\n",
       "3      192     100.00            0\n",
       "4      256     100.00            0"
      ]
     },
     "metadata": {},
     "output_type": "display_data"
    },
    {
     "name": "stdout",
     "output_type": "stream",
     "text": [
      "Test coverage:\n"
     ]
    },
    {
     "data": {
      "text/html": [
       "<div>\n",
       "<style scoped>\n",
       "    .dataframe tbody tr th:only-of-type {\n",
       "        vertical-align: middle;\n",
       "    }\n",
       "\n",
       "    .dataframe tbody tr th {\n",
       "        vertical-align: top;\n",
       "    }\n",
       "\n",
       "    .dataframe thead th {\n",
       "        text-align: right;\n",
       "    }\n",
       "</style>\n",
       "<table border=\"1\" class=\"dataframe\">\n",
       "  <thead>\n",
       "    <tr style=\"text-align: right;\">\n",
       "      <th></th>\n",
       "      <th>max_len</th>\n",
       "      <th>covered_%</th>\n",
       "      <th>truncated_n</th>\n",
       "    </tr>\n",
       "  </thead>\n",
       "  <tbody>\n",
       "    <tr>\n",
       "      <th>0</th>\n",
       "      <td>96</td>\n",
       "      <td>99.92</td>\n",
       "      <td>1</td>\n",
       "    </tr>\n",
       "    <tr>\n",
       "      <th>1</th>\n",
       "      <td>128</td>\n",
       "      <td>100.00</td>\n",
       "      <td>0</td>\n",
       "    </tr>\n",
       "    <tr>\n",
       "      <th>2</th>\n",
       "      <td>160</td>\n",
       "      <td>100.00</td>\n",
       "      <td>0</td>\n",
       "    </tr>\n",
       "    <tr>\n",
       "      <th>3</th>\n",
       "      <td>192</td>\n",
       "      <td>100.00</td>\n",
       "      <td>0</td>\n",
       "    </tr>\n",
       "    <tr>\n",
       "      <th>4</th>\n",
       "      <td>256</td>\n",
       "      <td>100.00</td>\n",
       "      <td>0</td>\n",
       "    </tr>\n",
       "  </tbody>\n",
       "</table>\n",
       "</div>"
      ],
      "text/plain": [
       "   max_len  covered_%  truncated_n\n",
       "0       96      99.92            1\n",
       "1      128     100.00            0\n",
       "2      160     100.00            0\n",
       "3      192     100.00            0\n",
       "4      256     100.00            0"
      ]
     },
     "metadata": {},
     "output_type": "display_data"
    }
   ],
   "source": [
    "# Cell 4: coverage at common max_len choices\n",
    "candidates = [96, 128, 160, 192, 256]\n",
    "def coverage(df, col=\"len_tok\"):\n",
    "    n = len(df)\n",
    "    rows = []\n",
    "    for L in candidates:\n",
    "        covered = (df[col] <= L).mean()\n",
    "        rows.append({\"max_len\": L, \"covered_%\": round(100*covered, 2), \"truncated_n\": int((1-covered)*n)})\n",
    "    return pd.DataFrame(rows)\n",
    "\n",
    "cov_tr = coverage(tr, \"len_tok\")\n",
    "cov_te = coverage(te, \"len_tok\")\n",
    "print(\"Train coverage:\")\n",
    "display(cov_tr)\n",
    "print(\"Test coverage:\")\n",
    "display(cov_te)\n"
   ]
  },
  {
   "cell_type": "code",
   "execution_count": 6,
   "metadata": {},
   "outputs": [
    {
     "name": "stdout",
     "output_type": "stream",
     "text": [
      "Overall (BERT tokens):\n"
     ]
    },
    {
     "data": {
      "text/html": [
       "<div>\n",
       "<style scoped>\n",
       "    .dataframe tbody tr th:only-of-type {\n",
       "        vertical-align: middle;\n",
       "    }\n",
       "\n",
       "    .dataframe tbody tr th {\n",
       "        vertical-align: top;\n",
       "    }\n",
       "\n",
       "    .dataframe thead th {\n",
       "        text-align: right;\n",
       "    }\n",
       "</style>\n",
       "<table border=\"1\" class=\"dataframe\">\n",
       "  <thead>\n",
       "    <tr style=\"text-align: right;\">\n",
       "      <th></th>\n",
       "      <th>percentile</th>\n",
       "      <th>len_tok</th>\n",
       "    </tr>\n",
       "  </thead>\n",
       "  <tbody>\n",
       "    <tr>\n",
       "      <th>0</th>\n",
       "      <td>50%</td>\n",
       "      <td>28</td>\n",
       "    </tr>\n",
       "    <tr>\n",
       "      <th>1</th>\n",
       "      <td>90%</td>\n",
       "      <td>50</td>\n",
       "    </tr>\n",
       "    <tr>\n",
       "      <th>2</th>\n",
       "      <td>95%</td>\n",
       "      <td>57</td>\n",
       "    </tr>\n",
       "    <tr>\n",
       "      <th>3</th>\n",
       "      <td>99%</td>\n",
       "      <td>69</td>\n",
       "    </tr>\n",
       "  </tbody>\n",
       "</table>\n",
       "</div>"
      ],
      "text/plain": [
       "  percentile  len_tok\n",
       "0        50%       28\n",
       "1        90%       50\n",
       "2        95%       57\n",
       "3        99%       69"
      ]
     },
     "metadata": {},
     "output_type": "display_data"
    },
    {
     "data": {
      "text/html": [
       "<div>\n",
       "<style scoped>\n",
       "    .dataframe tbody tr th:only-of-type {\n",
       "        vertical-align: middle;\n",
       "    }\n",
       "\n",
       "    .dataframe tbody tr th {\n",
       "        vertical-align: top;\n",
       "    }\n",
       "\n",
       "    .dataframe thead th {\n",
       "        text-align: right;\n",
       "    }\n",
       "</style>\n",
       "<table border=\"1\" class=\"dataframe\">\n",
       "  <thead>\n",
       "    <tr style=\"text-align: right;\">\n",
       "      <th></th>\n",
       "      <th>label</th>\n",
       "      <th>percentile</th>\n",
       "      <th>len_tok</th>\n",
       "    </tr>\n",
       "  </thead>\n",
       "  <tbody>\n",
       "    <tr>\n",
       "      <th>0</th>\n",
       "      <td>0</td>\n",
       "      <td>50%</td>\n",
       "      <td>30</td>\n",
       "    </tr>\n",
       "    <tr>\n",
       "      <th>1</th>\n",
       "      <td>0</td>\n",
       "      <td>90%</td>\n",
       "      <td>54</td>\n",
       "    </tr>\n",
       "    <tr>\n",
       "      <th>2</th>\n",
       "      <td>0</td>\n",
       "      <td>95%</td>\n",
       "      <td>62</td>\n",
       "    </tr>\n",
       "    <tr>\n",
       "      <th>3</th>\n",
       "      <td>0</td>\n",
       "      <td>99%</td>\n",
       "      <td>69</td>\n",
       "    </tr>\n",
       "    <tr>\n",
       "      <th>4</th>\n",
       "      <td>1</td>\n",
       "      <td>50%</td>\n",
       "      <td>27</td>\n",
       "    </tr>\n",
       "    <tr>\n",
       "      <th>5</th>\n",
       "      <td>1</td>\n",
       "      <td>90%</td>\n",
       "      <td>48</td>\n",
       "    </tr>\n",
       "    <tr>\n",
       "      <th>6</th>\n",
       "      <td>1</td>\n",
       "      <td>95%</td>\n",
       "      <td>55</td>\n",
       "    </tr>\n",
       "    <tr>\n",
       "      <th>7</th>\n",
       "      <td>1</td>\n",
       "      <td>99%</td>\n",
       "      <td>68</td>\n",
       "    </tr>\n",
       "    <tr>\n",
       "      <th>8</th>\n",
       "      <td>2</td>\n",
       "      <td>50%</td>\n",
       "      <td>30</td>\n",
       "    </tr>\n",
       "    <tr>\n",
       "      <th>9</th>\n",
       "      <td>2</td>\n",
       "      <td>90%</td>\n",
       "      <td>51</td>\n",
       "    </tr>\n",
       "    <tr>\n",
       "      <th>10</th>\n",
       "      <td>2</td>\n",
       "      <td>95%</td>\n",
       "      <td>59</td>\n",
       "    </tr>\n",
       "    <tr>\n",
       "      <th>11</th>\n",
       "      <td>2</td>\n",
       "      <td>99%</td>\n",
       "      <td>67</td>\n",
       "    </tr>\n",
       "  </tbody>\n",
       "</table>\n",
       "</div>"
      ],
      "text/plain": [
       "    label percentile  len_tok\n",
       "0       0        50%       30\n",
       "1       0        90%       54\n",
       "2       0        95%       62\n",
       "3       0        99%       69\n",
       "4       1        50%       27\n",
       "5       1        90%       48\n",
       "6       1        95%       55\n",
       "7       1        99%       68\n",
       "8       2        50%       30\n",
       "9       2        90%       51\n",
       "10      2        95%       59\n",
       "11      2        99%       67"
      ]
     },
     "metadata": {},
     "output_type": "display_data"
    }
   ],
   "source": [
    "# Cell 5: percentiles overall & by label\n",
    "def pct_table(df, col):\n",
    "    qs = [0.5, 0.9, 0.95, 0.99]\n",
    "    vals = np.percentile(df[col], [q*100 for q in qs])\n",
    "    return pd.DataFrame({\"percentile\": [\"50%\",\"90%\",\"95%\",\"99%\"], col: vals.astype(int)})\n",
    "\n",
    "print(\"Overall (BERT tokens):\")\n",
    "display(pct_table(tr, \"len_tok\"))\n",
    "\n",
    "if \"label\" in tr.columns:\n",
    "    # per-label percentiles\n",
    "    frames = []\n",
    "    for y, g in tr.groupby(\"label\", sort=True):\n",
    "        t = pct_table(g, \"len_tok\")\n",
    "        t.insert(0, \"label\", y)\n",
    "        frames.append(t)\n",
    "    display(pd.concat(frames, ignore_index=True))\n"
   ]
  },
  {
   "cell_type": "code",
   "execution_count": 7,
   "metadata": {},
   "outputs": [
    {
     "data": {
      "image/png": "[encoded data removed]",
      "text/plain": [
       "<Figure size 640x480 with 1 Axes>"
      ]
     },
     "metadata": {},
     "output_type": "display_data"
    },
    {
     "data": {
      "image/png": "[encoded data removed]",
      "text/plain": [
       "<Figure size 640x480 with 1 Axes>"
      ]
     },
     "metadata": {},
     "output_type": "display_data"
    },
    {
     "data": {
      "image/png": "[encoded data removed]",
      "text/plain": [
       "<Figure size 640x480 with 1 Axes>"
      ]
     },
     "metadata": {},
     "output_type": "display_data"
    }
   ],
   "source": [
    "# Cell 6: histograms (1 plot per chart; default matplotlib styles)\n",
    "fig = plt.figure()\n",
    "plt.hist(tr[\"len_char\"], bins=50)\n",
    "plt.title(\"Train: Character Length\")\n",
    "plt.xlabel(\"chars\"); plt.ylabel(\"count\")\n",
    "plt.show()\n",
    "\n",
    "fig = plt.figure()\n",
    "plt.hist(tr[\"len_word\"], bins=50)\n",
    "plt.title(\"Train: Word Length\")\n",
    "plt.xlabel(\"words\"); plt.ylabel(\"count\")\n",
    "plt.show()\n",
    "\n",
    "fig = plt.figure()\n",
    "plt.hist(tr[\"len_tok\"], bins=60)\n",
    "plt.title(\"Train: DistilBERT Token Length\")\n",
    "plt.xlabel(\"tokens\"); plt.ylabel(\"count\")\n",
    "plt.show()\n"
   ]
  },
  {
   "cell_type": "code",
   "execution_count": 8,
   "metadata": {},
   "outputs": [
    {
     "data": {
      "image/png": "[encoded data removed]",
      "text/plain": [
       "<Figure size 640x480 with 1 Axes>"
      ]
     },
     "metadata": {},
     "output_type": "display_data"
    }
   ],
   "source": [
    "# Cell 7: ECDF for token lengths\n",
    "x = np.sort(tr[\"len_tok\"].values)\n",
    "y = np.arange(1, len(x)+1) / len(x)\n",
    "\n",
    "fig = plt.figure()\n",
    "plt.plot(x, y)\n",
    "for L in [128, 160, 192, 256]:\n",
    "    # draw vertical helper\n",
    "    idx = np.searchsorted(x, L, side=\"right\")\n",
    "    pct = idx / len(x)\n",
    "    plt.axvline(L, linestyle=\"--\")\n",
    "    plt.text(L, min(0.98, pct+0.02), f\"{L}→{pct*100:.1f}%\", rotation=90, va=\"bottom\")\n",
    "plt.title(\"ECDF: DistilBERT Token Lengths (Train)\")\n",
    "plt.xlabel(\"tokens\"); plt.ylabel(\"proportion ≤ x\")\n",
    "plt.ylim(0,1.02)\n",
    "plt.show()\n"
   ]
  },
  {
   "cell_type": "code",
   "execution_count": 9,
   "metadata": {},
   "outputs": [
    {
     "name": "stderr",
     "output_type": "stream",
     "text": [
      "/var/folders/5w/ff16971n7g373q3_zm275bpr0000gn/T/ipykernel_2702/2775035474.py:6: MatplotlibDeprecationWarning: The 'labels' parameter of boxplot() has been renamed 'tick_labels' since Matplotlib 3.9; support for the old name will be dropped in 3.11.\n",
      "  plt.boxplot(data, labels=order, showfliers=False)\n"
     ]
    },
    {
     "data": {
      "image/png": "[encoded data removed]",
      "text/plain": [
       "<Figure size 640x480 with 1 Axes>"
      ]
     },
     "metadata": {},
     "output_type": "display_data"
    }
   ],
   "source": [
    "# Cell 8: per-class boxplots for token length (matplotlib)\n",
    "if \"label\" in tr.columns:\n",
    "    order = sorted(tr[\"label\"].unique())\n",
    "    data = [tr.loc[tr[\"label\"]==y, \"len_tok\"].values for y in order]\n",
    "    fig = plt.figure()\n",
    "    plt.boxplot(data, labels=order, showfliers=False)\n",
    "    plt.title(\"Token Length by Label (Train)\")\n",
    "    plt.xlabel(\"label\"); plt.ylabel(\"tokens\")\n",
    "    plt.show()\n"
   ]
  },
  {
   "cell_type": "code",
   "execution_count": 10,
   "metadata": {},
   "outputs": [
    {
     "data": {
      "text/html": [
       "<div>\n",
       "<style scoped>\n",
       "    .dataframe tbody tr th:only-of-type {\n",
       "        vertical-align: middle;\n",
       "    }\n",
       "\n",
       "    .dataframe tbody tr th {\n",
       "        vertical-align: top;\n",
       "    }\n",
       "\n",
       "    .dataframe thead th {\n",
       "        text-align: right;\n",
       "    }\n",
       "</style>\n",
       "<table border=\"1\" class=\"dataframe\">\n",
       "  <thead>\n",
       "    <tr style=\"text-align: right;\">\n",
       "      <th></th>\n",
       "      <th>label</th>\n",
       "      <th>len_tok</th>\n",
       "      <th>len_word</th>\n",
       "      <th>len_char</th>\n",
       "      <th>news</th>\n",
       "    </tr>\n",
       "  </thead>\n",
       "  <tbody>\n",
       "    <tr>\n",
       "      <th>2824</th>\n",
       "      <td>1</td>\n",
       "      <td>150</td>\n",
       "      <td>81</td>\n",
       "      <td>315</td>\n",
       "      <td>Supported Nokia phones include : N96 , N95-8GB...</td>\n",
       "    </tr>\n",
       "    <tr>\n",
       "      <th>3205</th>\n",
       "      <td>1</td>\n",
       "      <td>120</td>\n",
       "      <td>29</td>\n",
       "      <td>255</td>\n",
       "      <td>----------------------------------------------...</td>\n",
       "    </tr>\n",
       "    <tr>\n",
       "      <th>1703</th>\n",
       "      <td>1</td>\n",
       "      <td>109</td>\n",
       "      <td>52</td>\n",
       "      <td>262</td>\n",
       "      <td>H1 '08 H1 '07 Q2 '08 Q2 '07 in mln euro , unle...</td>\n",
       "    </tr>\n",
       "    <tr>\n",
       "      <th>2711</th>\n",
       "      <td>1</td>\n",
       "      <td>93</td>\n",
       "      <td>57</td>\n",
       "      <td>273</td>\n",
       "      <td>3 January 2011 - Scandinavian lenders Sampo Ba...</td>\n",
       "    </tr>\n",
       "    <tr>\n",
       "      <th>586</th>\n",
       "      <td>2</td>\n",
       "      <td>80</td>\n",
       "      <td>55</td>\n",
       "      <td>258</td>\n",
       "      <td>narrows to EUR2 .8 m 9-mo '09 29 October 2009 ...</td>\n",
       "    </tr>\n",
       "  </tbody>\n",
       "</table>\n",
       "</div>"
      ],
      "text/plain": [
       "      label  len_tok  len_word  len_char  \\\n",
       "2824      1      150        81       315   \n",
       "3205      1      120        29       255   \n",
       "1703      1      109        52       262   \n",
       "2711      1       93        57       273   \n",
       "586       2       80        55       258   \n",
       "\n",
       "                                                   news  \n",
       "2824  Supported Nokia phones include : N96 , N95-8GB...  \n",
       "3205  ----------------------------------------------...  \n",
       "1703  H1 '08 H1 '07 Q2 '08 Q2 '07 in mln euro , unle...  \n",
       "2711  3 January 2011 - Scandinavian lenders Sampo Ba...  \n",
       "586   narrows to EUR2 .8 m 9-mo '09 29 October 2009 ...  "
      ]
     },
     "execution_count": 10,
     "metadata": {},
     "output_type": "execute_result"
    }
   ],
   "source": [
    "# Cell 9: look at longest texts\n",
    "k = 5\n",
    "long_idx = tr[\"len_tok\"].nlargest(k).index\n",
    "tr.loc[long_idx, [\"label\",\"len_tok\",\"len_word\",\"len_char\",\"news\"]]\n"
   ]
  },
  {
   "cell_type": "code",
   "execution_count": 11,
   "metadata": {},
   "outputs": [
    {
     "name": "stdout",
     "output_type": "stream",
     "text": [
      "95th percentile of token length = 57.\n",
      "Suggested max_len: 128 (covers ≥95% with minimal truncation).\n"
     ]
    }
   ],
   "source": [
    "# Cell 10: print a simple recommendation based on 95th percentile\n",
    "p95 = int(np.percentile(tr[\"len_tok\"], 95))\n",
    "choice = min([L for L in [128,160,192,256] if L >= p95] or [256])\n",
    "print(f\"95th percentile of token length = {p95}.\")\n",
    "print(f\"Suggested max_len: {choice} (covers ≥95% with minimal truncation).\")\n"
   ]
  },
  {
   "cell_type": "markdown",
   "metadata": {},
   "source": [
    "Thus, we can reduce max_len to 128 and increase batch size. This helps to increase the training efficiency, allowing more fine-tuning."
   ]
  },
  {
   "cell_type": "markdown",
   "metadata": {
    "id": "CkoyE-niqIdN"
   },
   "source": [
    "## Deep Learning\n",
    "\n",
    "Build a neural network that can predict the news sentiment.\n",
    "- **The model's performance will be evaluated on the basis of weighted F1 score.**"
   ]
  },
  {
   "cell_type": "markdown",
   "metadata": {},
   "source": [
    "During the EDA process, I found that the labels are skewed (≈12% label 0, ≈60% label 1, ≈28% label 2). I therefore used oversampling to increase the number of label 0 and label 2 training samples. Because the training dataset is relatively small, I chose transfer learning over training a model from scratch.\n",
    "\n",
    "I started with DistilBERT. Oversampling improved results compared to no oversampling. Also, it avoids the problem of overfitting due to skewed dataset. After trying several oversampling factors, 1.3 worked best. Exploring learning rate, max sequence length, and batch size, two settings gave solid results:\n",
    "\n",
    "DistilBERT (baseline)\n",
    "model=distilbert-base-uncased, max_len=160, epochs=3, train_bs=16, eval_bs=32, lr=4e-5\n",
    "Result: Accuracy 0.831, F1-weighted 0.832, F1-macro 0.809.\n",
    "\n",
    "DistilBERT (label smoothing + step eval + oversampling)\n",
    "model=distilbert-base-uncased, max_len=128, epochs=4, train_bs=32, eval_bs=64, lr=4e-5, ls=0.05, eval_steps=80, oversample=1.3\n",
    "Result: Accuracy 0.838, F1-weighted 0.838, F1-macro 0.826."
   ]
  },
  {
   "cell_type": "markdown",
   "metadata": {},
   "source": [
    "Then I tried RoBERTa-base. It consistently outperformed DistilBERT. The best result came from:\n",
    "\n",
    "RoBERTa-base (final choice)\n",
    "model=roberta-base, max_len=160, epochs=3, train_bs=16, eval_bs=32, lr=4e-5, ls=0.02, eval_steps=80, oversample=1.3 Result: Acc 0.865, F1-weighted 0.865, F1-macro 0.851.\n",
    "Artifact: artifacts_nn/roberta-base_lr4e-05_len160_bs16_e3_ls0.02_os1.3_20251005-182129/\n",
    "(contains metrics.json, classification_report.txt, and submission_*.csv).\n",
    "\n",
    "Unfortunately, RoBERTa-base training for the model =roberta-base, max_len=128, epochs=4, train_bs=32, eval_bs=64, lr=4e-5, ls=0.05, eval_steps=80, oversample=1.3 was too time-consuming on my hardware for this project’s timeline, so I did not pursue it further."
   ]
  },
  {
   "cell_type": "markdown",
   "metadata": {},
   "source": [
    "Lastly I tried with Deberta-v3. Unfortunately, it's still too time cosuming on my hardware for this project’s timeline, so I did not pursue it further."
   ]
  },
  {
   "cell_type": "markdown",
   "metadata": {},
   "source": [
    "Thus, I will submit the RoBERTa-base model with the configuration above. A manual review of the prediction file looked sensible: most label 0 predictions read as clearly negative, most label 2 predictions as clearly positive, and most label 1 predictions as neutral."
   ]
  },
  {
   "cell_type": "markdown",
   "metadata": {
    "id": "1FQc6QH3qIdO"
   },
   "source": [
    "> #### Task:\n",
    "- **Submit the predictions on the test dataset using your optimized model** <br/>\n",
    "    For each record in the test set (test.csv), predict the value of the `label` variable.  You should submit a CSV file with a header row and one row per test entry.\n",
    "\n",
    "The file (`submissions.csv`) should have exactly 2 columns:\n",
    "\n",
    "| Column    | Description                                         |\n",
    "|:----------|:----------------------------------------------------|\n",
    "| `news`  | news headline                                |\n",
    "| `label`   | news sentiment - negative (`0`), neutral (`1`), positive (`2`) |"
   ]
  },
  {
   "cell_type": "code",
   "execution_count": 9,
   "metadata": {
    "id": "zmaq-oHOqIdP",
    "outputId": "2aea1f24-3f46-4347-8306-27520d14f150"
   },
   "outputs": [
    {
     "data": {
      "text/html": [
       "<div>\n",
       "<style scoped>\n",
       "    .dataframe tbody tr th:only-of-type {\n",
       "        vertical-align: middle;\n",
       "    }\n",
       "\n",
       "    .dataframe tbody tr th {\n",
       "        vertical-align: top;\n",
       "    }\n",
       "\n",
       "    .dataframe thead th {\n",
       "        text-align: right;\n",
       "    }\n",
       "</style>\n",
       "<table border=\"1\" class=\"dataframe\">\n",
       "  <thead>\n",
       "    <tr style=\"text-align: right;\">\n",
       "      <th></th>\n",
       "      <th>news</th>\n",
       "    </tr>\n",
       "  </thead>\n",
       "  <tbody>\n",
       "    <tr>\n",
       "      <th>0</th>\n",
       "      <td>The company was supposed to deliver machinery to a veneer mill in the Tomsk region , in Russia .</td>\n",
       "    </tr>\n",
       "    <tr>\n",
       "      <th>1</th>\n",
       "      <td>UNC Charlotte would also deploy SSH Tectia Connector to enable secure application connectivity .</td>\n",
       "    </tr>\n",
       "    <tr>\n",
       "      <th>2</th>\n",
       "      <td>In 2009 , Lee &amp; Man had a combined annual production capacity of close to 4.5 million tonnes of paper and 300,000 tonnes of pulp .</td>\n",
       "    </tr>\n",
       "    <tr>\n",
       "      <th>3</th>\n",
       "      <td>`` That 's a very high figure on the European scale , '' Noop said , recalling however that this also includes beer bought by Finnish tourists .</td>\n",
       "    </tr>\n",
       "    <tr>\n",
       "      <th>4</th>\n",
       "      <td>In Finland , the corresponding service is Alma Media 's Etuovi.com , Finland 's most popular and best known nationwide online service for home and property sales .</td>\n",
       "    </tr>\n",
       "  </tbody>\n",
       "</table>\n",
       "</div>"
      ],
      "text/plain": [
       "                                                                                                                                                                  news\n",
       "0                                                                     The company was supposed to deliver machinery to a veneer mill in the Tomsk region , in Russia .\n",
       "1                                                                     UNC Charlotte would also deploy SSH Tectia Connector to enable secure application connectivity .\n",
       "2                                   In 2009 , Lee & Man had a combined annual production capacity of close to 4.5 million tonnes of paper and 300,000 tonnes of pulp .\n",
       "3                     `` That 's a very high figure on the European scale , '' Noop said , recalling however that this also includes beer bought by Finnish tourists .\n",
       "4  In Finland , the corresponding service is Alma Media 's Etuovi.com , Finland 's most popular and best known nationwide online service for home and property sales ."
      ]
     },
     "execution_count": 9,
     "metadata": {},
     "output_type": "execute_result"
    }
   ],
   "source": [
    "# The testing dataset is already loaded below.\n",
    "test = pd.read_csv(\"test.csv\")\n",
    "test.head()"
   ]
  },
  {
   "cell_type": "code",
   "execution_count": null,
   "metadata": {
    "id": "H1BYDv2WqIdP"
   },
   "outputs": [],
   "source": []
  },
  {
   "cell_type": "code",
   "execution_count": null,
   "metadata": {
    "id": "t7e9Mbe5qIdP"
   },
   "outputs": [],
   "source": [
    "# Submission\n",
    "submission_df.to_csv(\"submissions.csv\", index=False)"
   ]
  }
 ],
 "metadata": {
  "colab": {
   "provenance": []
  },
  "kernelspec": {
   "display_name": "pds",
   "language": "python",
   "name": "python3"
  },
  "language_info": {
   "codemirror_mode": {
    "name": "ipython",
    "version": 3
   },
   "file_extension": ".py",
   "mimetype": "text/x-python",
   "name": "python",
   "nbconvert_exporter": "python",
   "pygments_lexer": "ipython3",
   "version": "3.9.23"
  }
 },
 "nbformat": 4,
 "nbformat_minor": 1
}
