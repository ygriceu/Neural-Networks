{
 "cells": [
  {
   "cell_type": "markdown",
   "metadata": {
    "id": "uCP_pxmVqIdC"
   },
   "source": [
    "# Predict Financial News Sentiment"
   ]
  },
  {
   "cell_type": "markdown",
   "metadata": {
    "id": "c8okkFy5qIdI"
   },
   "source": [
    "### Environment\n",
    "Ubuntu 22.04 LTS which includes **Python 3.9.12** and utilities *curl*, *git*, *vim*, *unzip*, *wget*, and *zip*. There is no *GPU* support.\n",
    "\n",
    "The IPython Kernel allows you to execute Python code in the Notebook cell and Python console.\n",
    "\n",
    "### Installing packages\n",
    "- Run `!mamba list \"package_name\"` command to check the package installation status. For example,\n",
    "\n",
    "```python\n",
    "!mamba list numpy\n",
    "\"\"\"\n",
    "# packages in environment at /opt/conda:\n",
    "#\n",
    "# Name                    Version                   Build  Channel\n",
    "numpy                     1.21.6           py39h18676bf_0    conda-forge\n",
    "\"\"\"\n",
    "```\n",
    "\n",
    "    You can also try importing the package.\n",
    "\n",
    "- Run the `!mamba install \"package_name\"` to install a package\n",
    "\n",
    "### Excluding large files\n",
    "HackerRank rejects any submission larger than **20MB**. Therefore, you must exclude any large files by adding these to the *.gitignore* file.\n",
    "You can **Submit** code to validate the status of your submission."
   ]
  },
  {
   "cell_type": "code",
   "execution_count": 7,
   "metadata": {
    "id": "QA24RI1LqIdJ"
   },
   "outputs": [],
   "source": [
    "# Libraries\n",
    "\n",
    "import pandas as pd\n",
    "import numpy as np\n",
    "import matplotlib.pyplot as plt\n",
    "import os\n",
    "\n",
    "pd.set_option(\"display.max_columns\", 101)\n",
    "pd.set_option(\"display.max_colwidth\", None)"
   ]
  },
  {
   "cell_type": "markdown",
   "metadata": {
    "id": "xPRzZs07qIdJ"
   },
   "source": [
    "## Data Description"
   ]
  },
  {
   "cell_type": "markdown",
   "metadata": {
    "id": "tUAnYizmqIdK"
   },
   "source": [
    "| Column    | Description                                         |\n",
    "|:----------|:----------------------------------------------------|\n",
    "| `news`  | news headline                                |\n",
    "| `label`   | news sentiment - negative (`0`), neutral (`1`), positive (`2`) |"
   ]
  },
  {
   "cell_type": "code",
   "execution_count": 8,
   "metadata": {
    "id": "oc7ik0x2qIdK",
    "outputId": "15bb76c8-29e0-4be9-f17a-159bfd147900"
   },
   "outputs": [
    {
     "data": {
      "text/html": [
       "<div>\n",
       "<style scoped>\n",
       "    .dataframe tbody tr th:only-of-type {\n",
       "        vertical-align: middle;\n",
       "    }\n",
       "\n",
       "    .dataframe tbody tr th {\n",
       "        vertical-align: top;\n",
       "    }\n",
       "\n",
       "    .dataframe thead th {\n",
       "        text-align: right;\n",
       "    }\n",
       "</style>\n",
       "<table border=\"1\" class=\"dataframe\">\n",
       "  <thead>\n",
       "    <tr style=\"text-align: right;\">\n",
       "      <th></th>\n",
       "      <th>news</th>\n",
       "      <th>label</th>\n",
       "    </tr>\n",
       "  </thead>\n",
       "  <tbody>\n",
       "    <tr>\n",
       "      <th>0</th>\n",
       "      <td>Residents access to the block is planned to be from Aleksandri Street .</td>\n",
       "      <td>1</td>\n",
       "    </tr>\n",
       "    <tr>\n",
       "      <th>1</th>\n",
       "      <td>The company operates its business through two reportable segments , including Banking and Investment Services , and Non-Life Insurance .</td>\n",
       "      <td>1</td>\n",
       "    </tr>\n",
       "    <tr>\n",
       "      <th>2</th>\n",
       "      <td>However , this increases signaling traffic which wastes network resources and allows fewer smartphones to connect .</td>\n",
       "      <td>0</td>\n",
       "    </tr>\n",
       "    <tr>\n",
       "      <th>3</th>\n",
       "      <td>Ahlstrom Corporation STOCK EXCHANGE RELEASE 13.02.2008 Ahlstrom , a global leader in high performance fiber-based materials , today announced the completion of the acquisition of Friend Group Inc. , which consists of West Carrollton Parchment Company and West Carrollton Converting Company .</td>\n",
       "      <td>1</td>\n",
       "    </tr>\n",
       "    <tr>\n",
       "      <th>4</th>\n",
       "      <td>The winners included the Honda Odyssey for minivan and the Nissan Armada for large SUV .</td>\n",
       "      <td>1</td>\n",
       "    </tr>\n",
       "  </tbody>\n",
       "</table>\n",
       "</div>"
      ],
      "text/plain": [
       "                                                                                                                                                                                                                                                                                                  news  \\\n",
       "0                                                                                                                                                                                                                              Residents access to the block is planned to be from Aleksandri Street .   \n",
       "1                                                                                                                                                             The company operates its business through two reportable segments , including Banking and Investment Services , and Non-Life Insurance .   \n",
       "2                                                                                                                                                                                  However , this increases signaling traffic which wastes network resources and allows fewer smartphones to connect .   \n",
       "3  Ahlstrom Corporation STOCK EXCHANGE RELEASE 13.02.2008 Ahlstrom , a global leader in high performance fiber-based materials , today announced the completion of the acquisition of Friend Group Inc. , which consists of West Carrollton Parchment Company and West Carrollton Converting Company .   \n",
       "4                                                                                                                                                                                                             The winners included the Honda Odyssey for minivan and the Nissan Armada for large SUV .   \n",
       "\n",
       "   label  \n",
       "0      1  \n",
       "1      1  \n",
       "2      0  \n",
       "3      1  \n",
       "4      1  "
      ]
     },
     "execution_count": 8,
     "metadata": {},
     "output_type": "execute_result"
    }
   ],
   "source": [
    "# The training dataset is already loaded below.\n",
    "data = pd.read_csv(\"train.csv\")\n",
    "data.head()"
   ]
  },
  {
   "cell_type": "code",
   "execution_count": null,
   "metadata": {
    "id": "d0su3hjvqIdM"
   },
   "outputs": [],
   "source": []
  },
  {
   "cell_type": "code",
   "execution_count": null,
   "metadata": {
    "id": "C7DdxdnrqIdN"
   },
   "outputs": [],
   "source": []
  },
  {
   "cell_type": "markdown",
   "metadata": {
    "id": "CkoyE-niqIdN"
   },
   "source": [
    "## Deep Learning\n",
    "\n",
    "Build a neural network that can predict the news sentiment.\n",
    "- **The model's performance will be evaluated on the basis of weighted F1 score.**"
   ]
  },
  {
   "cell_type": "code",
   "execution_count": null,
   "metadata": {
    "id": "rlwXSSp_qIdO"
   },
   "outputs": [],
   "source": []
  },
  {
   "cell_type": "code",
   "execution_count": null,
   "metadata": {},
   "outputs": [],
   "source": []
  },
  {
   "cell_type": "code",
   "execution_count": null,
   "metadata": {
    "id": "CNvEzhhyqIdO"
   },
   "outputs": [],
   "source": []
  },
  {
   "cell_type": "markdown",
   "metadata": {
    "id": "1FQc6QH3qIdO"
   },
   "source": [
    "> #### Task:\n",
    "- **Submit the predictions on the test dataset using your optimized model** <br/>\n",
    "    For each record in the test set (test.csv), predict the value of the `label` variable.  You should submit a CSV file with a header row and one row per test entry.\n",
    "\n",
    "The file (`submissions.csv`) should have exactly 2 columns:\n",
    "\n",
    "| Column    | Description                                         |\n",
    "|:----------|:----------------------------------------------------|\n",
    "| `news`  | news headline                                |\n",
    "| `label`   | news sentiment - negative (`0`), neutral (`1`), positive (`2`) |"
   ]
  },
  {
   "cell_type": "code",
   "execution_count": 9,
   "metadata": {
    "id": "zmaq-oHOqIdP",
    "outputId": "2aea1f24-3f46-4347-8306-27520d14f150"
   },
   "outputs": [
    {
     "data": {
      "text/html": [
       "<div>\n",
       "<style scoped>\n",
       "    .dataframe tbody tr th:only-of-type {\n",
       "        vertical-align: middle;\n",
       "    }\n",
       "\n",
       "    .dataframe tbody tr th {\n",
       "        vertical-align: top;\n",
       "    }\n",
       "\n",
       "    .dataframe thead th {\n",
       "        text-align: right;\n",
       "    }\n",
       "</style>\n",
       "<table border=\"1\" class=\"dataframe\">\n",
       "  <thead>\n",
       "    <tr style=\"text-align: right;\">\n",
       "      <th></th>\n",
       "      <th>news</th>\n",
       "    </tr>\n",
       "  </thead>\n",
       "  <tbody>\n",
       "    <tr>\n",
       "      <th>0</th>\n",
       "      <td>The company was supposed to deliver machinery to a veneer mill in the Tomsk region , in Russia .</td>\n",
       "    </tr>\n",
       "    <tr>\n",
       "      <th>1</th>\n",
       "      <td>UNC Charlotte would also deploy SSH Tectia Connector to enable secure application connectivity .</td>\n",
       "    </tr>\n",
       "    <tr>\n",
       "      <th>2</th>\n",
       "      <td>In 2009 , Lee &amp; Man had a combined annual production capacity of close to 4.5 million tonnes of paper and 300,000 tonnes of pulp .</td>\n",
       "    </tr>\n",
       "    <tr>\n",
       "      <th>3</th>\n",
       "      <td>`` That 's a very high figure on the European scale , '' Noop said , recalling however that this also includes beer bought by Finnish tourists .</td>\n",
       "    </tr>\n",
       "    <tr>\n",
       "      <th>4</th>\n",
       "      <td>In Finland , the corresponding service is Alma Media 's Etuovi.com , Finland 's most popular and best known nationwide online service for home and property sales .</td>\n",
       "    </tr>\n",
       "  </tbody>\n",
       "</table>\n",
       "</div>"
      ],
      "text/plain": [
       "                                                                                                                                                                  news\n",
       "0                                                                     The company was supposed to deliver machinery to a veneer mill in the Tomsk region , in Russia .\n",
       "1                                                                     UNC Charlotte would also deploy SSH Tectia Connector to enable secure application connectivity .\n",
       "2                                   In 2009 , Lee & Man had a combined annual production capacity of close to 4.5 million tonnes of paper and 300,000 tonnes of pulp .\n",
       "3                     `` That 's a very high figure on the European scale , '' Noop said , recalling however that this also includes beer bought by Finnish tourists .\n",
       "4  In Finland , the corresponding service is Alma Media 's Etuovi.com , Finland 's most popular and best known nationwide online service for home and property sales ."
      ]
     },
     "execution_count": 9,
     "metadata": {},
     "output_type": "execute_result"
    }
   ],
   "source": [
    "# The testing dataset is already loaded below.\n",
    "test = pd.read_csv(\"test.csv\")\n",
    "test.head()"
   ]
  },
  {
   "cell_type": "code",
   "execution_count": null,
   "metadata": {
    "id": "ggc9lz8LqIdP"
   },
   "outputs": [],
   "source": []
  },
  {
   "cell_type": "code",
   "execution_count": null,
   "metadata": {
    "id": "H1BYDv2WqIdP"
   },
   "outputs": [],
   "source": []
  },
  {
   "cell_type": "code",
   "execution_count": null,
   "metadata": {
    "id": "t7e9Mbe5qIdP"
   },
   "outputs": [],
   "source": [
    "# Submission\n",
    "submission_df.to_csv(\"submissions.csv\", index=False)"
   ]
  }
 ],
 "metadata": {
  "colab": {
   "provenance": []
  },
  "kernelspec": {
   "display_name": "Python 3 (ipykernel)",
   "language": "python",
   "name": "python3"
  },
  "language_info": {
   "codemirror_mode": {
    "name": "ipython",
    "version": 3
   },
   "file_extension": ".py",
   "mimetype": "text/x-python",
   "name": "python",
   "nbconvert_exporter": "python",
   "pygments_lexer": "ipython3",
   "version": "3.11.3"
  }
 },
 "nbformat": 4,
 "nbformat_minor": 1
}
